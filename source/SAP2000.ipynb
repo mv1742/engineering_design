{
 "cells": [
  {
   "cell_type": "code",
   "execution_count": 215,
   "id": "07712a9d",
   "metadata": {},
   "outputs": [
    {
     "name": "stdout",
     "output_type": "stream",
     "text": [
      "hello\n"
     ]
    }
   ],
   "source": [
    "print(\"hello\")"
   ]
  },
  {
   "cell_type": "code",
   "execution_count": null,
   "id": "cc15eefa",
   "metadata": {},
   "outputs": [],
   "source": []
  },
  {
   "cell_type": "code",
   "execution_count": 216,
   "id": "4b938e4e",
   "metadata": {},
   "outputs": [],
   "source": [
    "import os\n",
    "\n",
    "import sys\n",
    "\n",
    "import clr\n",
    "\n",
    " \n",
    "\n",
    "clr.AddReference(\"System.Runtime.InteropServices\")\n",
    "\n",
    "from System.Runtime.InteropServices import Marshal\n",
    "\n",
    " \n",
    "\n",
    "#set the following path to the installed SAP2000 program directory\n",
    "\n",
    "clr.AddReference(R'C:\\Program Files\\Computers and Structures\\SAP2000 23\\SAP2000v1.dll')\n",
    "\n",
    "from SAP2000v1 import *\n",
    "\n",
    " \n",
    "\n",
    "#set the following flag to True to execute on a remote computer\n",
    "\n",
    "Remote = False\n",
    "\n",
    " \n",
    "\n",
    "#if the above flag is True, set the following variable to the hostname of the remote computer\n",
    "\n",
    "#remember that the remote computer must have SAP2000 installed and be running the CSiAPIService.exe\n",
    "\n",
    "RemoteComputer = \"SpareComputer-DT\"\n",
    "\n",
    " \n",
    "\n",
    "#set the following flag to True to attach to an existing instance of the program\n",
    "\n",
    "#otherwise a new instance of the program will be started\n",
    "\n",
    "# AttachToInstance = True\n",
    "\n",
    "AttachToInstance = False\n",
    " \n",
    "\n",
    "#set the following flag to True to manually specify the path to SAP2000.exe\n",
    "\n",
    "#this allows for a connection to a version of SAP2000 other than the latest installation\n",
    "\n",
    "#otherwise the latest installed version of SAP2000 will be launched\n",
    "\n",
    "SpecifyPath = False\n",
    "\n",
    " \n",
    "\n",
    "#if the above flag is set to True, specify the path to SAP2000 below\n",
    "\n",
    "ProgramPath = R\"C:\\Program Files\\Computers and Structures\\SAP2000 23\\SAP2000.exe\"\n",
    "\n",
    " \n",
    "\n",
    "#full path to the model\n",
    "\n",
    "#set it to the desired path of your model\n",
    "\n",
    "#if executing remotely, ensure that this folder already exists on the remote computer\n",
    "\n",
    "#the below command will only create the folder locally\n",
    "\n",
    "APIPath = R'C:\\CSi_SAP2000_API_Example'\n",
    "\n",
    "if not os.path.exists(APIPath):\n",
    "\n",
    "    try:\n",
    "\n",
    "        os.makedirs(APIPath)\n",
    "\n",
    "    except OSError:\n",
    "\n",
    "        pass\n",
    "\n",
    "ModelPath = APIPath + os.sep + 'API_1-001.sdb'\n",
    "\n",
    " \n",
    "\n",
    "#create API helper object\n",
    "\n",
    "helper = cHelper(Helper())"
   ]
  },
  {
   "cell_type": "code",
   "execution_count": 217,
   "id": "8903ff69",
   "metadata": {},
   "outputs": [],
   "source": [
    "# if AttachToInstance:\n",
    "\n",
    "#     #attach to a running instance of SAP2000\n",
    "\n",
    "#     try:\n",
    "\n",
    "#         #get the active SAP2000 object       \n",
    "\n",
    "#         if Remote:\n",
    "\n",
    "#             mySAPObject = cOAPI(helper.GetObjectHost(RemoteComputer, \"CSI.SAP2000.API.SAPObject\"))\n",
    "\n",
    "#         else:\n",
    "\n",
    "#             mySAPObject = cOAPI(helper.GetObject(\"CSI.SAP2000.API.SAPObject\"))\n",
    "\n",
    "#     except:\n",
    "\n",
    "#         print(\"No running instance of the program found or failed to attach.\")\n",
    "\n",
    "#         sys.exit(-1)\n",
    "\n",
    "       \n",
    "\n",
    "# else:\n",
    "\n",
    "#     if SpecifyPath:\n",
    "\n",
    "#         try:\n",
    "\n",
    "#             #'create an instance of the SAP2000 object from the specified path\n",
    "\n",
    "#             if Remote:\n",
    "\n",
    "#                 mySAPObject = cOAPI(helper.CreateObjectHost(RemoteComputer, ProgramPath))\n",
    "\n",
    "#             else:\n",
    "\n",
    "#                 mySAPObject = cOAPI(helper.CreateObject(ProgramPath))\n",
    "\n",
    "#         except :\n",
    "\n",
    "#             print(\"Cannot start a new instance of the program from \" + ProgramPath)\n",
    "\n",
    "#             sys.exit(-1)\n",
    "\n",
    "#     else:\n",
    "\n",
    " \n",
    "\n",
    "#         try:\n",
    "\n",
    "#             #create an instance of the SAP2000 object from the latest installed SAP2000\n",
    "\n",
    "#             if Remote:\n",
    "\n",
    "#                 mySAPObject = cOAPI(helper.CreateObjectProgIDHost(RemoteComputer, \"CSI.SAP2000.API.SAPObject\"))\n",
    "\n",
    "#             else:\n",
    "\n",
    "#                 mySAPObject = cOAPI(helper.CreateObjectProgID(\"CSI.SAP2000.API.SAPObject\"))\n",
    "\n",
    "                   \n",
    "\n",
    "#         except:\n",
    "\n",
    "#             print(\"Cannot start a new instance of the program.\")\n",
    "\n",
    "#             sys.exit(-1)\n",
    "\n",
    " \n",
    "\n",
    "#     #start SAP2000 application\n",
    "\n",
    "#     mySAPObject.ApplicationStart()"
   ]
  },
  {
   "cell_type": "code",
   "execution_count": 218,
   "id": "2241b262",
   "metadata": {},
   "outputs": [],
   "source": [
    "# mySAPObject = cOAPI(helper.GetObject(\"CSI.SAP2000.API.SAPObject\"))"
   ]
  },
  {
   "cell_type": "code",
   "execution_count": 219,
   "id": "8f1749b1",
   "metadata": {},
   "outputs": [
    {
     "data": {
      "text/plain": [
       "0"
      ]
     },
     "execution_count": 219,
     "metadata": {},
     "output_type": "execute_result"
    }
   ],
   "source": [
    "mySAPObject = cOAPI(helper.CreateObjectProgID(\"CSI.SAP2000.API.SAPObject\"))\n",
    "mySAPObject.ApplicationStart()"
   ]
  },
  {
   "cell_type": "code",
   "execution_count": 220,
   "id": "3d0b3925",
   "metadata": {},
   "outputs": [
    {
     "data": {
      "text/plain": [
       "0"
      ]
     },
     "execution_count": 220,
     "metadata": {},
     "output_type": "execute_result"
    }
   ],
   "source": [
    "#create SapModel object\n",
    "SapModel = cSapModel(mySAPObject.SapModel)\n",
    "\n",
    "#initialize model\n",
    "\n",
    "SapModel.InitializeNewModel()\n",
    "# #create new blank model\n",
    "\n",
    "# File = cFile(SapModel.File)\n",
    "# File.NewBlank()"
   ]
  },
  {
   "cell_type": "code",
   "execution_count": 221,
   "id": "94fef4f2",
   "metadata": {},
   "outputs": [
    {
     "data": {
      "text/plain": [
       "0"
      ]
     },
     "execution_count": 221,
     "metadata": {},
     "output_type": "execute_result"
    }
   ],
   "source": [
    "path_tunnel = \"C:/Users/manri/Downloads/SAP2000 Model/TMCLK_1Ring_TEST.sdb\"\n",
    "path_tunnel\n",
    "\n",
    "File = cFile(SapModel.File)\n",
    "File.OpenFile(path_tunnel)"
   ]
  },
  {
   "cell_type": "code",
   "execution_count": 224,
   "id": "63f04d71",
   "metadata": {},
   "outputs": [],
   "source": [
    "\n",
    "\n",
    "# SapModel.File.OpenFile(path_tunnel)\n",
    "# Analyze = cAnalyze(SapModel.Analyze)\n",
    "# Analyze.RunAnalysis()\n",
    "#run model (this will create the analysis model)\n",
    "\n",
    "Analyze = cAnalyze(SapModel.Analyze)\n",
    "\n",
    "ret = Analyze.RunAnalysis()\n",
    "\n",
    "#refresh view, update (initialize) zoom\n",
    "\n",
    "View = cView(SapModel.View)\n",
    "\n",
    "ret = View.RefreshView(0, False)\n"
   ]
  },
  {
   "cell_type": "code",
   "execution_count": 222,
   "id": "24678172",
   "metadata": {},
   "outputs": [
    {
     "data": {
      "text/plain": [
       "('2', '4', '2')"
      ]
     },
     "execution_count": 222,
     "metadata": {},
     "output_type": "execute_result"
    }
   ],
   "source": [
    "(FrameName2, PointName1, PointName2)"
   ]
  },
  {
   "cell_type": "code",
   "execution_count": 225,
   "id": "4dddf370",
   "metadata": {},
   "outputs": [],
   "source": [
    "#get results\n",
    "\n",
    "Results = cAnalysisResults(SapModel.Results)\n",
    "\n",
    "Setup = cAnalysisResultsSetup(Results.Setup)"
   ]
  },
  {
   "cell_type": "code",
   "execution_count": 226,
   "id": "1869a4d3",
   "metadata": {},
   "outputs": [
    {
     "ename": "RemotingException",
     "evalue": "Failed to connect to an IPC Port: The system cannot find the file specified.\r\n \n\r\nServer stack trace: \r\n   at System.Runtime.Remoting.Channels.Ipc.IpcPort.Connect(String portName, Boolean secure, TokenImpersonationLevel impersonationLevel, Int32 timeout)\r\n   at System.Runtime.Remoting.Channels.Ipc.ConnectionCache.GetConnection(String portName, Boolean secure, TokenImpersonationLevel level, Int32 timeout)\r\n   at System.Runtime.Remoting.Channels.Ipc.IpcClientTransportSink.ProcessMessage(IMessage msg, ITransportHeaders requestHeaders, Stream requestStream, ITransportHeaders& responseHeaders, Stream& responseStream)\r\n   at System.Runtime.Remoting.Channels.BinaryClientFormatterSink.SyncProcessMessage(IMessage msg)\r\n\r\nException rethrown at [0]: \r\n   at System.Runtime.Remoting.Proxies.RealProxy.HandleReturnMessage(IMessage reqMsg, IMessage retMsg)\r\n   at System.Runtime.Remoting.Proxies.RealProxy.PrivateInvoke(MessageData& msgData, Int32 type)\r\n   at SAP2000v1.cFrameObj.GetPoints(String Name, String& Point1, String& Point2)",
     "output_type": "error",
     "traceback": [
      "\u001b[1;31m---------------------------------------------------------------------------\u001b[0m",
      "\u001b[1;31mRemotingException\u001b[0m                         Traceback (most recent call last)",
      "\u001b[1;32m<ipython-input-226-99ee8ab4ffa4>\u001b[0m in \u001b[0;36m<module>\u001b[1;34m\u001b[0m\n\u001b[1;32m----> 1\u001b[1;33m \u001b[1;33m[\u001b[0m\u001b[0mret\u001b[0m\u001b[1;33m,\u001b[0m \u001b[0mPointName1\u001b[0m\u001b[1;33m,\u001b[0m \u001b[0mPointName2\u001b[0m\u001b[1;33m]\u001b[0m \u001b[1;33m=\u001b[0m \u001b[0mFrameObj\u001b[0m\u001b[1;33m.\u001b[0m\u001b[0mGetPoints\u001b[0m\u001b[1;33m(\u001b[0m\u001b[0mFrameName2\u001b[0m\u001b[1;33m,\u001b[0m \u001b[0mPointName1\u001b[0m\u001b[1;33m,\u001b[0m \u001b[0mPointName2\u001b[0m\u001b[1;33m)\u001b[0m\u001b[1;33m\u001b[0m\u001b[1;33m\u001b[0m\u001b[0m\n\u001b[0m",
      "\u001b[1;31mRemotingException\u001b[0m: Failed to connect to an IPC Port: The system cannot find the file specified.\r\n \n\r\nServer stack trace: \r\n   at System.Runtime.Remoting.Channels.Ipc.IpcPort.Connect(String portName, Boolean secure, TokenImpersonationLevel impersonationLevel, Int32 timeout)\r\n   at System.Runtime.Remoting.Channels.Ipc.ConnectionCache.GetConnection(String portName, Boolean secure, TokenImpersonationLevel level, Int32 timeout)\r\n   at System.Runtime.Remoting.Channels.Ipc.IpcClientTransportSink.ProcessMessage(IMessage msg, ITransportHeaders requestHeaders, Stream requestStream, ITransportHeaders& responseHeaders, Stream& responseStream)\r\n   at System.Runtime.Remoting.Channels.BinaryClientFormatterSink.SyncProcessMessage(IMessage msg)\r\n\r\nException rethrown at [0]: \r\n   at System.Runtime.Remoting.Proxies.RealProxy.HandleReturnMessage(IMessage reqMsg, IMessage retMsg)\r\n   at System.Runtime.Remoting.Proxies.RealProxy.PrivateInvoke(MessageData& msgData, Int32 type)\r\n   at SAP2000v1.cFrameObj.GetPoints(String Name, String& Point1, String& Point2)"
     ]
    }
   ],
   "source": [
    "[ret, PointName1, PointName2] = FrameObj.GetPoints(FrameName2, PointName1, PointName2)\n"
   ]
  },
  {
   "cell_type": "code",
   "execution_count": null,
   "id": "39ec9a97",
   "metadata": {},
   "outputs": [],
   "source": []
  },
  {
   "cell_type": "code",
   "execution_count": 223,
   "id": "1646bc2e",
   "metadata": {},
   "outputs": [
    {
     "ename": "RemotingException",
     "evalue": "Failed to connect to an IPC Port: The system cannot find the file specified.\r\n \n\r\nServer stack trace: \r\n   at System.Runtime.Remoting.Channels.Ipc.IpcPort.Connect(String portName, Boolean secure, TokenImpersonationLevel impersonationLevel, Int32 timeout)\r\n   at System.Runtime.Remoting.Channels.Ipc.ConnectionCache.GetConnection(String portName, Boolean secure, TokenImpersonationLevel level, Int32 timeout)\r\n   at System.Runtime.Remoting.Channels.Ipc.IpcClientTransportSink.ProcessMessage(IMessage msg, ITransportHeaders requestHeaders, Stream requestStream, ITransportHeaders& responseHeaders, Stream& responseStream)\r\n   at System.Runtime.Remoting.Channels.BinaryClientFormatterSink.SyncProcessMessage(IMessage msg)\r\n\r\nException rethrown at [0]: \r\n   at System.Runtime.Remoting.Proxies.RealProxy.HandleReturnMessage(IMessage reqMsg, IMessage retMsg)\r\n   at System.Runtime.Remoting.Proxies.RealProxy.PrivateInvoke(MessageData& msgData, Int32 type)\r\n   at SAP2000v1.cFrameObj.GetPoints(String Name, String& Point1, String& Point2)",
     "output_type": "error",
     "traceback": [
      "\u001b[1;31m---------------------------------------------------------------------------\u001b[0m",
      "\u001b[1;31mRemotingException\u001b[0m                         Traceback (most recent call last)",
      "\u001b[1;32m<ipython-input-223-7d79451c9c79>\u001b[0m in \u001b[0;36m<module>\u001b[1;34m\u001b[0m\n\u001b[0;32m      3\u001b[0m \u001b[0mProgramResult\u001b[0m \u001b[1;33m=\u001b[0m \u001b[1;33m[\u001b[0m\u001b[1;36m0\u001b[0m\u001b[1;33m,\u001b[0m\u001b[1;36m0\u001b[0m\u001b[1;33m,\u001b[0m\u001b[1;36m0\u001b[0m\u001b[1;33m,\u001b[0m\u001b[1;36m0\u001b[0m\u001b[1;33m,\u001b[0m\u001b[1;36m0\u001b[0m\u001b[1;33m,\u001b[0m\u001b[1;36m0\u001b[0m\u001b[1;33m,\u001b[0m\u001b[1;36m0\u001b[0m\u001b[1;33m]\u001b[0m\u001b[1;33m\u001b[0m\u001b[1;33m\u001b[0m\u001b[0m\n\u001b[0;32m      4\u001b[0m \u001b[1;33m\u001b[0m\u001b[0m\n\u001b[1;32m----> 5\u001b[1;33m \u001b[1;33m[\u001b[0m\u001b[0mret\u001b[0m\u001b[1;33m,\u001b[0m \u001b[0mPointName1\u001b[0m\u001b[1;33m,\u001b[0m \u001b[0mPointName2\u001b[0m\u001b[1;33m]\u001b[0m \u001b[1;33m=\u001b[0m \u001b[0mFrameObj\u001b[0m\u001b[1;33m.\u001b[0m\u001b[0mGetPoints\u001b[0m\u001b[1;33m(\u001b[0m\u001b[0mFrameName2\u001b[0m\u001b[1;33m,\u001b[0m \u001b[0mPointName1\u001b[0m\u001b[1;33m,\u001b[0m \u001b[0mPointName2\u001b[0m\u001b[1;33m)\u001b[0m\u001b[1;33m\u001b[0m\u001b[1;33m\u001b[0m\u001b[0m\n\u001b[0m\u001b[0;32m      6\u001b[0m \u001b[1;33m\u001b[0m\u001b[0m\n\u001b[0;32m      7\u001b[0m \u001b[1;33m\u001b[0m\u001b[0m\n",
      "\u001b[1;31mRemotingException\u001b[0m: Failed to connect to an IPC Port: The system cannot find the file specified.\r\n \n\r\nServer stack trace: \r\n   at System.Runtime.Remoting.Channels.Ipc.IpcPort.Connect(String portName, Boolean secure, TokenImpersonationLevel impersonationLevel, Int32 timeout)\r\n   at System.Runtime.Remoting.Channels.Ipc.ConnectionCache.GetConnection(String portName, Boolean secure, TokenImpersonationLevel level, Int32 timeout)\r\n   at System.Runtime.Remoting.Channels.Ipc.IpcClientTransportSink.ProcessMessage(IMessage msg, ITransportHeaders requestHeaders, Stream requestStream, ITransportHeaders& responseHeaders, Stream& responseStream)\r\n   at System.Runtime.Remoting.Channels.BinaryClientFormatterSink.SyncProcessMessage(IMessage msg)\r\n\r\nException rethrown at [0]: \r\n   at System.Runtime.Remoting.Proxies.RealProxy.HandleReturnMessage(IMessage reqMsg, IMessage retMsg)\r\n   at System.Runtime.Remoting.Proxies.RealProxy.PrivateInvoke(MessageData& msgData, Int32 type)\r\n   at SAP2000v1.cFrameObj.GetPoints(String Name, String& Point1, String& Point2)"
     ]
    }
   ],
   "source": [
    "#initialize for results\n",
    "\n",
    "ProgramResult = [0,0,0,0,0,0,0]\n",
    "\n",
    "[ret, PointName1, PointName2] = FrameObj.GetPoints(FrameName2, PointName1, PointName2)\n",
    "\n",
    " \n",
    "\n",
    "#get results for load cases 1 through 7\n",
    "\n",
    "Results = cAnalysisResults(SapModel.Results)\n",
    "\n",
    "Setup = cAnalysisResultsSetup(Results.Setup)\n",
    "\n",
    "for i in range(0,7):\n",
    "\n",
    "      NumberResults = 0\n",
    "\n",
    "      Obj = []\n",
    "\n",
    "      Elm = []\n",
    "\n",
    "      ACase = []\n",
    "\n",
    "      StepType = []\n",
    "\n",
    "      StepNum = []\n",
    "\n",
    "      U1 = []\n",
    "\n",
    "      U2 = []\n",
    "\n",
    "      U3 = []\n",
    "\n",
    "      R1 = []\n",
    "\n",
    "      R2 = []\n",
    "\n",
    "      R3 = []\n",
    "\n",
    "      ObjectElm = 0\n",
    "\n",
    "      ret = Setup.DeselectAllCasesAndCombosForOutput()\n",
    "\n",
    "      ret = Setup.SetCaseSelectedForOutput(str(i + 1))\n",
    "\n",
    "      if i <= 3:\n",
    "\n",
    "          [ret, NumberResults, Obj, Elm, ACase, StepType, StepNum, U1, U2, U3, R1, R2, R3] = Results.JointDispl(PointName2, ObjectElm, NumberResults, Obj, Elm, ACase, StepType, StepNum, U1, U2, U3, R1, R2, R3)\n",
    "\n",
    "          ProgramResult[i] = U3[0]\n",
    "\n",
    "      else:\n",
    "\n",
    "          [ret, NumberResults, Obj, Elm, ACase, StepType, StepNum, U1, U2, U3, R1, R2, R3] = Results.JointDispl(PointName1, ObjectElm, NumberResults, Obj, Elm, ACase, StepType, StepNum, U1, U2, U3, R1, R2, R3)\n",
    "\n",
    "          ProgramResult[i] = U1[0]\n",
    "\n",
    "\n"
   ]
  },
  {
   "cell_type": "code",
   "execution_count": null,
   "id": "a6b9bf07",
   "metadata": {},
   "outputs": [],
   "source": [
    "\n",
    "\n",
    "#close the program\n",
    "\n",
    "ret = mySAPObject.ApplicationExit(False)\n",
    "\n",
    "SapModel = None\n",
    "\n",
    "mySAPObject = None\n",
    "\n",
    "\n",
    "\n",
    "#display results\n",
    "\n",
    "for i in range(0,7):\n",
    "\n",
    "      print()\n",
    "\n",
    "      print(ProgramResult[i])\n"
   ]
  }
 ],
 "metadata": {
  "kernelspec": {
   "display_name": "Python 3",
   "language": "python",
   "name": "python3"
  },
  "language_info": {
   "codemirror_mode": {
    "name": "ipython",
    "version": 3
   },
   "file_extension": ".py",
   "mimetype": "text/x-python",
   "name": "python",
   "nbconvert_exporter": "python",
   "pygments_lexer": "ipython3",
   "version": "3.7.9"
  }
 },
 "nbformat": 4,
 "nbformat_minor": 5
}
